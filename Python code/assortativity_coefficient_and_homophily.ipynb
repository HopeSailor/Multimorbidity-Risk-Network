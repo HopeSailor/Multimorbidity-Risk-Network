{
 "cells": [
  {
   "cell_type": "code",
   "execution_count": 1,
   "id": "6e174e22",
   "metadata": {},
   "outputs": [],
   "source": [
    "import pandas as pd\n",
    "import networkx as nx"
   ]
  },
  {
   "cell_type": "code",
   "execution_count": 2,
   "id": "120a9000",
   "metadata": {},
   "outputs": [],
   "source": [
    "# Define the function to calculate assortativity coefficient\n",
    "def calculate_assortativity(nodes_file, edges_file):\n",
    "    # Load the nodes and edges data\n",
    "    nodes_df = pd.read_csv(nodes_file)\n",
    "    edges_df = pd.read_csv(edges_file)\n",
    "    \n",
    "    # Create the graph\n",
    "    G = nx.Graph()\n",
    "    \n",
    "    # Add edges and nodes to the graph\n",
    "    for _, row in edges_df.iterrows():\n",
    "        G.add_edge(row['source'], row['target'], weight=row['weight'])\n",
    "    \n",
    "    for _, row in nodes_df.iterrows():\n",
    "        G.nodes[row['id']]['label'] = row['label']\n",
    "    \n",
    "    # Calculate and return assortativity coefficient\n",
    "    return nx.attribute_assortativity_coefficient(G, 'label')"
   ]
  },
  {
   "cell_type": "code",
   "execution_count": 3,
   "id": "463c7e85",
   "metadata": {},
   "outputs": [],
   "source": [
    "# Calculate for each community\n",
    "assortativity_c1 = calculate_assortativity('G:/共病/数据/community1_nodes_with_centrality.csv', 'G:/共病/数据/community1_edges.csv')\n",
    "assortativity_c2 = calculate_assortativity('G:/共病/数据/community2_nodes_with_centrality.csv', 'G:/共病/数据/community2_edges.csv')\n",
    "assortativity_c3 = calculate_assortativity('G:/共病/数据/community3_nodes_with_centrality.csv', 'G:/共病/数据/community3_edges.csv')"
   ]
  },
  {
   "cell_type": "code",
   "execution_count": 4,
   "id": "de68ea23",
   "metadata": {},
   "outputs": [
    {
     "name": "stdout",
     "output_type": "stream",
     "text": [
      "Assortativity Coefficient for Community 1: 0.04874856005864494\n",
      "Assortativity Coefficient for Community 2: 0.037480940392184685\n",
      "Assortativity Coefficient for Community 3: 0.04383031156486531\n"
     ]
    }
   ],
   "source": [
    "print(\"Assortativity Coefficient for Community 1:\", assortativity_c1)\n",
    "print(\"Assortativity Coefficient for Community 2:\", assortativity_c2)\n",
    "print(\"Assortativity Coefficient for Community 3:\", assortativity_c3)"
   ]
  },
  {
   "cell_type": "code",
   "execution_count": 5,
   "id": "4d5e44cf",
   "metadata": {},
   "outputs": [],
   "source": [
    "def calculate_homophily(nodes_file, edges_file):\n",
    "    # Load the nodes and edges data\n",
    "    nodes_df = pd.read_csv(nodes_file)\n",
    "    edges_df = pd.read_csv(edges_file)\n",
    "    \n",
    "    # Create the graph\n",
    "    G = nx.Graph()\n",
    "    \n",
    "    # Add edges and nodes to the graph\n",
    "    for _, row in edges_df.iterrows():\n",
    "        G.add_edge(row['source'], row['target'], weight=row['weight'])\n",
    "    \n",
    "    for _, row in nodes_df.iterrows():\n",
    "        G.nodes[row['id']]['category'] = row['label']\n",
    "    \n",
    "    intra_category_edges = 0\n",
    "    inter_category_edges = 0\n",
    "    \n",
    "    for u, v in G.edges():\n",
    "        if G.nodes[u]['category'] == G.nodes[v]['category']:\n",
    "            intra_category_edges += 1\n",
    "        else:\n",
    "            inter_category_edges += 1\n",
    "    \n",
    "    total_edges = intra_category_edges + inter_category_edges\n",
    "    homophily_ratio = intra_category_edges / total_edges if total_edges > 0 else 0\n",
    "    \n",
    "    return homophily_ratio"
   ]
  },
  {
   "cell_type": "code",
   "execution_count": 6,
   "id": "1146ec49",
   "metadata": {},
   "outputs": [],
   "source": [
    "# Calculate for each community\n",
    "homophily_c1 = calculate_homophily('G:/共病/数据/community1_nodes_with_centrality.csv', 'G:/共病/数据/community1_edges.csv')\n",
    "homophily_c2 = calculate_homophily('G:/共病/数据/community2_nodes_with_centrality.csv', 'G:/共病/数据/community2_edges.csv')\n",
    "homophily_c3 = calculate_homophily('G:/共病/数据/community3_nodes_with_centrality.csv', 'G:/共病/数据/community3_edges.csv')"
   ]
  },
  {
   "cell_type": "code",
   "execution_count": 7,
   "id": "a0ea8ed5",
   "metadata": {
    "scrolled": true
   },
   "outputs": [
    {
     "name": "stdout",
     "output_type": "stream",
     "text": [
      "Homophily Ratio for Community 1: 0.24643584521384929\n",
      "Homophily Ratio for Community 2: 0.16346153846153846\n",
      "Homophily Ratio for Community 3: 0.20618556701030927\n"
     ]
    }
   ],
   "source": [
    "print(\"Homophily Ratio for Community 1:\", homophily_c1)\n",
    "print(\"Homophily Ratio for Community 2:\", homophily_c2)\n",
    "print(\"Homophily Ratio for Community 3:\", homophily_c3)"
   ]
  }
 ],
 "metadata": {
  "kernelspec": {
   "display_name": "Python 3 (ipykernel)",
   "language": "python",
   "name": "python3"
  },
  "language_info": {
   "codemirror_mode": {
    "name": "ipython",
    "version": 3
   },
   "file_extension": ".py",
   "mimetype": "text/x-python",
   "name": "python",
   "nbconvert_exporter": "python",
   "pygments_lexer": "ipython3",
   "version": "3.9.7"
  }
 },
 "nbformat": 4,
 "nbformat_minor": 5
}
