{
 "cells": [
  {
   "cell_type": "markdown",
   "id": "37e8f1c9",
   "metadata": {},
   "source": [
    "# Import all tables for the eICU-CRD（eICU Collaborative Research Database）\n",
    "## 由于机器内存的限制，无法导入eICU的所有表，因此在后续逐个导入表，下面注释的代码是使用动态字典导入的方法。"
   ]
  },
  {
   "cell_type": "code",
   "execution_count": null,
   "id": "61a48952",
   "metadata": {},
   "outputs": [],
   "source": [
    "import pandas as pd\n",
    "import numpy as np\n",
    "import os\n",
    "from tqdm import tqdm\n",
    "\n",
    "path = 'G:/eicu-crd'\n",
    "## Gets all filenames ending in .csv\n",
    "# all_files = [f for f in os.listdir(path) if os.path.isfile(os.path.join(path, f)) and f.endswith('.csv')]\n",
    "## The data is loaded dynamically using a dictionary, with the file name as the key\n",
    "# dfs = {}\n",
    "# for file_name in all_files:\n",
    "    # df_name = file_name.split('.')[0]\n",
    "    # dfs[df_name] = pd.read_csv(os.path.join(path, file_name), low_memory=False)\n",
    "    # print(f'{file_name} imported')"
   ]
  },
  {
   "cell_type": "markdown",
   "id": "131a433d",
   "metadata": {},
   "source": [
    "# Demographics of the patients\n",
    "## 对eICU进行患者特征的提取，具体来说，从patient、apachepatientresult和note这三个表中提取和计算相关的特征。\n",
    "+ Gender: 代表患者的性别。某些疾病在男性和女性之间的发病率不同（patient表中的gender）。\n",
    "+ Age: 代表患者的年龄。它对许多疾病的发病率、预后和治疗选择有重要意义（patient表中的age）。\n",
    "+ Ethnicity: 代表患者的种族或民族背景。某些疾病可能在不同的种族或族群中有不同的发病率（patient表中的ethnicity）。\n",
    "+ Height: 代表患者的身高。对药物剂量、麻醉、手术风险等有关（patient表中的admissionheight）。\n",
    "+ Hospital length of stay in days: 患者在医院住院的天数，用于衡量患者疾病的严重性、复杂性以及所需的医疗干预。医院的住院天数反映了患者的疾病状态、治疗反应和康复进度。长时间的住院可能意味着患者的疾病较为严重、复杂或其治疗和恢复需要更长的时间。而短时间的住院可能意味着患者的疾病状况较为轻微或得到了及时和有效的治疗。因此，这个变量可以为医疗团队提供有关患者健康状况和治疗需要的重要信息（由patient表中的两个时间计算得出(hospitaldischargeoffset - hospitaladmitoffset)/60.0/24.0）。\n",
    "+ Source of admission: 代表患者被转入的来源，例如从另一家医院、诊所或是家中。这可以提供关于患者之前状况的线索（patient表中的hospitaladmitsource）。\n",
    "+ Hospital discharge location: 代表患者出院后被转送到的地点或设施，例如家庭、康复中心。出院地点可以反应患者出院时的健康状况、照护需求和恢复预期（patient表中的hospitaldischargelocation）。\n",
    "+ Hospital discharge status: 代表患者出院时的状态，生存或者死亡（patient表中的hospitaldischargestatus）。\n",
    "+ Unit type: 代表患者进入单元的类型（patient表中unittype）。\n",
    "+ Unit admit source: 代表患者被转入单元的来源（patient表中的unitadmitsource）。\n",
    "+ Weight: 代表患者的体重。对药物剂量、麻醉、手术风险等有关（patient表中的admissionweight或者dischargeweight）。\n",
    "+ Unit length of stay in days: 患者在单元住院的天数，用于衡量患者疾病的严重性、复杂性以及所需的医疗干预（patient表中的unitdischargeoffset，unitdischargeoffset / 60.0 / 24.0）。\n",
    "+ Unit discharge status: 代表患者出单元时的状态，生存或者死亡（patient表中的unitdischargestatus）。\n",
    "+ APACHE score: 一种评估重症监护病人疾病严重度和预测其住院死亡率的工具。提供了关于患者在进入重症监护室时健康状况的深入了解。该分数考虑了多个生理测量值、年龄、慢性健康状况等因素，为医生提供了患者可能的治疗结果的预测（apachePatientResult表中的apachescore）。\n",
    "+ Smoking: 代表患者是否吸烟。吸烟是多种疾病的危险因素（从note表中经过正则表达式推理得来）。"
   ]
  },
  {
   "cell_type": "code",
   "execution_count": null,
   "id": "2f0c83e9",
   "metadata": {},
   "outputs": [],
   "source": [
    "# Import\n",
    "patient_cols = [\n",
    "    'patientunitstayid', 'gender', 'age', 'ethnicity', 'admissionheight',\n",
    "    'hospitaldischargeoffset', 'hospitaladmitoffset', 'hospitaladmitsource',\n",
    "    'hospitaldischargelocation', 'hospitaldischargestatus', 'unittype',\n",
    "    'unitadmitsource', 'admissionweight', 'unitdischargeoffset', 'unitdischargestatus'\n",
    "]\n",
    "patient_df = pd.read_csv(path + '/patient.csv', usecols=patient_cols)\n",
    "apachepatientresult_cols = ['patientunitstayid', 'apachescore', 'apacheversion']\n",
    "apachepatientresult_df = pd.read_csv(path + '/apachePatientResult.csv', usecols=apachepatientresult_cols)\n",
    "# Selecte Patients and scores with Apache version IV\n",
    "apachepatientresult_df = apachepatientresult_df.query(\"apacheversion == 'IV'\")[['patientunitstayid', 'apachescore']]\n",
    "# Calculate length of stay and unit length of stay\n",
    "patient_df['hospital_length_of_stay_in_days'] = (patient_df['hospitaldischargeoffset'] - patient_df['hospitaladmitoffset']) / 60.0 / 24.0\n",
    "patient_df['unit_length_of_stay_in_days'] = patient_df['unitdischargeoffset'] / 60.0 / 24.0\n",
    "# Transform the age of '> 89' to a numerical value 90\n",
    "patient_df['age'] = patient_df['age'].replace('> 89', '90').apply(pd.to_numeric, errors='coerce')\n",
    "patient_df = patient_df.drop(columns=['hospitaladmitoffset', 'hospitaldischargeoffset', 'unitdischargeoffset'])\n",
    "# Merge with APACHE_score\n",
    "merged_df = pd.merge(patient_df, apachepatientresult_df, on='patientunitstayid', how='left')"
   ]
  },
  {
   "cell_type": "markdown",
   "id": "063e68eb",
   "metadata": {},
   "source": [
    "# Vital signs\n",
    "## 对eICU进行生命体征提取。具体来说，从vitalaperiodic、vitalperiodic中提取和计算相关的特征。包括：\n",
    "+ nonInvasiveSystolic: 患者无创收缩值（vitalAperiodic表中noninvasivesystolic）。real\n",
    "+ nonInvasiveDiastolic: 患者无创舒张值（vitalAperiodic表中noninvasivediastolic）。real\n",
    "+ noninvasivemean：患者BP平均值（vitalAperiodic表中noninvasivemean）。\n",
    "+ PAOP (Pulmonary Artery Obstruction Pressure): 肺动脉阻塞压（vitalAperiodic表中paop）。real\n",
    "+ temperature: 体温（vitalPeriodic表中temperature）。decimal(11,4)\n",
    "+ sao2: 血氧饱和度（vitalPeriodic表中sao2）。int\n",
    "+ heartrate: 心率（vitalPeriodic表中heartrate）。int\n",
    "+ respiration: 呼吸频率（vitalPeriodic表中respiration）。int\n",
    "+ cvp (central venous pressure): 中心静脉压（vitalPeriodic表中cvp）。int\n",
    "+ etco2 (end-tidal carbon dioxide): 末梢呼气二氧化碳，医生通过监测患者的末梢呼气二氧化碳来评估他的呼吸状况（vitalPeriodic表中etco2）。int\n",
    "+ ICP: 颅内压（vitalPeriodic表中icp）。int"
   ]
  },
  {
   "cell_type": "code",
   "execution_count": null,
   "id": "4d6e95c0",
   "metadata": {},
   "outputs": [],
   "source": [
    "# Import\n",
    "# datatype map\n",
    "dtype_map = {\n",
    "    'noninvasivesystolic': 'float32',\n",
    "    'noninvasivediastolic': 'float32',\n",
    "    'noninvasivemean':'float32',\n",
    "    'paop': 'float32',\n",
    "    'temperature': 'float32',\n",
    "    'sao2': 'float32',\n",
    "    'heartrate': 'float32',\n",
    "    'respiration': 'float32',\n",
    "    'cvp': 'float32',\n",
    "    'etco2': 'float32',\n",
    "    'icp': 'float32'\n",
    "}\n",
    "vitalaperiodic_cols = ['patientunitstayid', 'noninvasivesystolic', 'noninvasivediastolic', 'noninvasivemean', 'paop']\n",
    "vitalaperiodic_df = pd.read_csv(path + '/vitalAperiodic.csv', usecols=vitalaperiodic_cols, dtype=dtype_map)\n",
    "\n",
    "vitalaperiodic_df = vitalaperiodic_df.groupby('patientunitstayid').mean().reset_index()\n",
    "vitalperiodic_cols = ['patientunitstayid', 'temperature', 'sao2', 'heartrate', 'respiration', \n",
    "                      'cvp', 'etco2', 'icp']\n",
    "vitalperiodic_df = pd.read_csv(path + '/vitalPeriodic.csv', usecols=vitalperiodic_cols, dtype=dtype_map)\n",
    "\n",
    "vitalperiodic_df = vitalperiodic_df.groupby('patientunitstayid').mean().reset_index()\n",
    "# Merge\n",
    "merged_df = pd.merge(merged_df, vitalaperiodic_df, on='patientunitstayid', how='left')\n",
    "merged_df = pd.merge(merged_df, vitalperiodic_df, on='patientunitstayid', how='left')"
   ]
  },
  {
   "cell_type": "markdown",
   "id": "088bf771",
   "metadata": {},
   "source": [
    "# Glasgow Coma Scale (GCS)\n",
    "## 在eICU数据库中，Glasgow Coma Scale（GCS）的数据通常可以在nurseCharting表中找到。这个表通常包括各种从护士记录中获取的数据，包括患者的GCS评分"
   ]
  },
  {
   "cell_type": "code",
   "execution_count": null,
   "id": "e3bbd3a9",
   "metadata": {},
   "outputs": [],
   "source": [
    "# Import\n",
    "nursecharting_cols = ['patientunitstayid', 'nursingchartcelltypevallabel', 'nursingchartcelltypevalname', 'nursingchartvalue']\n",
    "nursecharting_df = pd.read_csv(path + '/nurseCharting.csv', usecols=nursecharting_cols)\n",
    "# Filter\n",
    "gcs_related = ['Glasgow coma score']\n",
    "filtered_df = nursecharting_df[nursecharting_df['nursingchartcelltypevallabel'].isin(gcs_related)]\n",
    "# Numeric\n",
    "filtered_df['nursingchartvalue'] = pd.to_numeric(filtered_df['nursingchartvalue'], errors='coerce')\n",
    "# Group by and calculate the mean\n",
    "grouped_df = filtered_df.groupby(['patientunitstayid']).mean().reset_index()\n",
    "# Rename the columns\n",
    "grouped_df.columns = ['patientunitstayid', 'gcsscore']\n",
    "# Merge the DataFrames\n",
    "merged_df = pd.merge(merged_df, grouped_df, on='patientunitstayid', how='left')"
   ]
  },
  {
   "cell_type": "markdown",
   "id": "61b86b46",
   "metadata": {},
   "source": [
    "# Intake and Output Records (I&O or I/O)\n",
    "## 在eICU数据库中，I&O 通常存储在intakeOutput表中。这个表包括与患者摄入和排放量有关的多种类型的信息，包括液体摄入、药物摄入以及各种类型的输出。\n",
    "## \n",
    "## Intake\n",
    "+ P.O.: 口服，即通过口腔进食或饮水。Generic Intake (ml)\n",
    "+ NS IVF: Normal Saline Intravenous Fluid，即通过静脉注射输送的生理盐水。Generic Intake (ml)|NS IVF\n",
    "+ Continuous infusion meds: 持续输液药物，即通过持续输液的方式给药。Crystalloids (ml)|Continuous infusion meds\n",
    "## Output\n",
    "+ Urine: 尿液，可能包括各种类型和情况下的尿液排放。Output (ml)|Urine\n",
    "+ Stool: 粪便。Output (ml)|Stool"
   ]
  },
  {
   "cell_type": "code",
   "execution_count": null,
   "id": "9dce89ad",
   "metadata": {},
   "outputs": [],
   "source": [
    "# Import\n",
    "intakeoutput_cols = ['patientunitstayid', 'cellpath', 'celllabel', 'cellvaluenumeric']\n",
    "intakeoutput_df = pd.read_csv(path + '/intakeOutput.csv', usecols=intakeoutput_cols)\n",
    "selected_labels = ['P.O.', 'NS IVF', 'Continuous infusion meds', 'Urine', 'Stool']\n",
    "filtered_df = intakeoutput_df[intakeoutput_df['celllabel'].isin(selected_labels)]\n",
    "# Average against each 'patientunitstayid' and 'celllabel'\n",
    "average_values_df = filtered_df.groupby(['patientunitstayid', 'celllabel']).mean().reset_index()\n",
    "# Use the pivot function to reshape the DataFrame\n",
    "pivot_df = average_values_df.pivot(index='patientunitstayid', columns='celllabel', values='cellvaluenumeric')\n",
    "# Reset the index to concatenate with merged_df\n",
    "pivot_df.reset_index(inplace=True)\n",
    "# Merge\n",
    "merged_df = pd.merge(merged_df, pivot_df, on='patientunitstayid', how='left')"
   ]
  },
  {
   "cell_type": "markdown",
   "id": "5c632127",
   "metadata": {},
   "source": [
    "# Lab Result (The most common 20 lab results in eICU)\n",
    "## 在eICU数据库中，lab result存储在lab表中。这个表包括患者的多个lab测试结果，包括葡萄糖、钾离子含量等。\n",
    "+ bedside glucose（mg/dL）：病床旁测量的血糖值。\n",
    "+ potassium（mmol/L）：血液中的钾浓度。\n",
    "+ sodium（mmol/L）：血液中的钠浓度。\n",
    "+ glucose（mg/dL）：血糖浓度。\n",
    "+ Hgb（g/dL）：血红蛋白含量。\n",
    "+ chloride（mmol/L）：血液中的氯浓度。\n",
    "+ Hct（%）：红细胞压积或血容比。\n",
    "+ creatinine（mg/dL）：肌酐浓度，用于评估肾功能。\n",
    "+ BUN（mg/dL）：血尿素氮，另一种评估肾功能的指标。\n",
    "+ calcium（mg/dL）：血液中的钙浓度。\n",
    "+ bicarbonate（mmol/L）：血液中的碳酸氢盐浓度。\n",
    "+ platelets x 1000（K/mcL）：血小板计数。\n",
    "+ WBC x 1000（K/mcL）：白细胞计数。\n",
    "+ RBC（M/mcL）：红细胞计数。\n",
    "+ MCV（fL）：平均红细胞体积。\n",
    "+ MCHC（g/dL）：平均红细胞血红蛋白浓度。\n",
    "+ MCH（pg）：平均红细胞血红蛋白含量。\n",
    "+ RDW（%）：红细胞分布宽度，描述红细胞大小的变异程度。\n",
    "+ anion gap：阴离子间隙，用于诊断酸碱平衡异常。\n",
    "+ MPV（fL）：平均血小板体积。"
   ]
  },
  {
   "cell_type": "code",
   "execution_count": null,
   "id": "2bcb5ba8",
   "metadata": {},
   "outputs": [],
   "source": [
    "# Import\n",
    "lab_columns = ['patientunitstayid', 'labname', 'labresult', 'labmeasurenamesystem']\n",
    "lab_df = pd.read_csv(path + '/lab.csv', usecols=lab_columns)\n",
    "grouped_lab_df = lab_df.groupby(['patientunitstayid', 'labname']).mean().reset_index()\n",
    "labname_counts = lab_df['labname'].value_counts()\n",
    "labname_counts_sorted = labname_counts.sort_values(ascending=False)\n",
    "top_20_labnames = labname_counts_sorted.head(20).index.tolist()\n",
    "filtered_lab_df = lab_df[lab_df['labname'].isin(top_20_labnames)]\n",
    "pivot_lab_df = filtered_lab_df.pivot_table(index='patientunitstayid', \n",
    "                                           columns='labname', \n",
    "                                           values='labresult', \n",
    "                                           aggfunc='mean').reset_index()\n",
    "merged_df = pd.merge(merged_df, pivot_lab_df, on='patientunitstayid', how='left')"
   ]
  },
  {
   "cell_type": "markdown",
   "id": "56c1b12b",
   "metadata": {},
   "source": [
    "# Impute the missing values"
   ]
  },
  {
   "cell_type": "code",
   "execution_count": null,
   "id": "91368281",
   "metadata": {},
   "outputs": [],
   "source": [
    "# Observe missing values\n",
    "print(merged_df.isna().sum()/len(merged_df))"
   ]
  },
  {
   "cell_type": "markdown",
   "id": "cdd8fc6b",
   "metadata": {},
   "source": [
    "## Use values in nurseCharting table to impute temperature in merged_df"
   ]
  },
  {
   "cell_type": "code",
   "execution_count": null,
   "id": "eb0d5d51",
   "metadata": {},
   "outputs": [],
   "source": [
    "# Temperature is missing by more than 90%. Temperature in nurseCharting is used for imputation.\n",
    "# Filter for Temperature\n",
    "temperature_condition = (nursecharting_df['nursingchartcelltypevallabel'] == 'Temperature') & \\\n",
    "                        (nursecharting_df['nursingchartcelltypevalname'].isin(['Temperature (F)', 'Temperature (C)']))\n",
    "filtered_df = nursecharting_df[temperature_condition]\n",
    "# Convert values to numeric\n",
    "filtered_df['nursingchartvalue'] = pd.to_numeric(filtered_df['nursingchartvalue'], errors='coerce')\n",
    "# Convert Fahrenheit to Celsius if needed\n",
    "fahrenheit_condition = (filtered_df['nursingchartcelltypevalname'] == 'Temperature (F)')\n",
    "filtered_df.loc[fahrenheit_condition, 'nursingchartvalue'] = (filtered_df.loc[fahrenheit_condition, 'nursingchartvalue'] - 32) * 5/9\n",
    "# Group by and calculate the mean\n",
    "grouped_df = filtered_df.groupby(['patientunitstayid']).mean().reset_index()\n",
    "# Rename the columns\n",
    "grouped_df.columns = ['patientunitstayid', 'temperature']\n",
    "# Assuming that 'temperature' is the column in merged_df containing the existing temperature data\n",
    "merged_df['temperature'] = pd.to_numeric(merged_df['temperature'], errors='coerce')\n",
    "# Merge the two DataFrames on 'patientunitstayid' using an outer join to keep all records\n",
    "merged_temp_df = pd.merge(merged_df[['patientunitstayid', 'temperature']], \n",
    "                          grouped_df, on='patientunitstayid', how='outer', suffixes=('_merged', '_grouped'))\n",
    "# Calculate the new 'temperature' column\n",
    "merged_temp_df['temperature'] = np.where(\n",
    "    merged_temp_df['temperature_merged'].isna(), \n",
    "    merged_temp_df['temperature_grouped'], \n",
    "    np.where(\n",
    "        merged_temp_df['temperature_grouped'].isna(), \n",
    "        merged_temp_df['temperature_merged'], \n",
    "        (merged_temp_df['temperature_merged'] + merged_temp_df['temperature_grouped']) / 2\n",
    "    )\n",
    ")\n",
    "# Drop the temporary columns\n",
    "merged_temp_df.drop(['temperature_merged', 'temperature_grouped'], axis=1, inplace=True)\n",
    "# Merge this back into the original DataFrame\n",
    "merged_df = pd.merge(merged_df.drop('temperature', axis=1), merged_temp_df, on='patientunitstayid', how='left')"
   ]
  },
  {
   "cell_type": "code",
   "execution_count": null,
   "id": "550432c3",
   "metadata": {},
   "outputs": [],
   "source": [
    "# Observe missing values\n",
    "print(merged_df['temperature'].isna().sum()/len(merged_df))"
   ]
  },
  {
   "cell_type": "code",
   "execution_count": null,
   "id": "1e402d72",
   "metadata": {
    "scrolled": false
   },
   "outputs": [],
   "source": [
    "# Export merged_df to csv for missing value visualization and data imputation using R studio\n",
    "merged_df.to_csv(path + '/merged_df.csv', index=False)"
   ]
  }
 ],
 "metadata": {
  "kernelspec": {
   "display_name": "Python 3 (ipykernel)",
   "language": "python",
   "name": "python3"
  },
  "language_info": {
   "codemirror_mode": {
    "name": "ipython",
    "version": 3
   },
   "file_extension": ".py",
   "mimetype": "text/x-python",
   "name": "python",
   "nbconvert_exporter": "python",
   "pygments_lexer": "ipython3",
   "version": "3.9.7"
  }
 },
 "nbformat": 4,
 "nbformat_minor": 5
}
