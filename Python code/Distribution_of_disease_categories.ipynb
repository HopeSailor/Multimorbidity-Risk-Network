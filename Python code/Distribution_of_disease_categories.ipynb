{
 "cells": [
  {
   "cell_type": "code",
   "execution_count": null,
   "id": "aedb5154",
   "metadata": {},
   "outputs": [],
   "source": [
    "import pandas as pd\n",
    "dic = pd.read_excel('G:/final_chronic_diseases_dict.xlsx')\n",
    "disease_count_per_category = dic['Category'].value_counts()\n",
    "disease_count_per_category"
   ]
  }
 ],
 "metadata": {
  "kernelspec": {
   "display_name": "Python 3 (ipykernel)",
   "language": "python",
   "name": "python3"
  },
  "language_info": {
   "codemirror_mode": {
    "name": "ipython",
    "version": 3
   },
   "file_extension": ".py",
   "mimetype": "text/x-python",
   "name": "python",
   "nbconvert_exporter": "python",
   "pygments_lexer": "ipython3",
   "version": "3.9.7"
  }
 },
 "nbformat": 4,
 "nbformat_minor": 5
}
